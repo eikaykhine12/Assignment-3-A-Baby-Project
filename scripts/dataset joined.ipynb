{
 "cells": [
  {
   "cell_type": "markdown",
   "metadata": {},
   "source": [
    "# **Assignment 5 - Toddler Project**\n"
   ]
  },
  {
   "cell_type": "code",
   "execution_count": 2,
   "metadata": {},
   "outputs": [
    {
     "name": "stdout",
     "output_type": "stream",
     "text": [
      "Clean Data Columns: Index(['post_id', 'platform', 'post_type', 'post_time', 'caption', 'hashtags',\n",
      "       'likes', 'comments', 'shares', 'caption_length', 'num_hashtags',\n",
      "       'post_hour', 'post_day', 'sentiment_score'],\n",
      "      dtype='object')\n",
      "New Data Columns: Index(['post_id', 'user name ', 'followers'], dtype='object')\n"
     ]
    }
   ],
   "source": [
    "import pandas as pd\n",
    "\n",
    "clean_df = pd.read_csv('../data/social_media_engagement.csv')\n",
    "new_df = pd.read_csv('../data/mock data.csv')\n",
    "\n",
    "print(\"Clean Data Columns:\", clean_df.columns)\n",
    "print(\"New Data Columns:\", new_df.columns)"
   ]
  },
  {
   "cell_type": "code",
   "execution_count": 4,
   "metadata": {},
   "outputs": [],
   "source": [
    "common_key = \"post_id\"\n",
    "\n",
    "merged_df = clean_df.merge(new_df, on=common_key, how=\"inner\")"
   ]
  },
  {
   "cell_type": "code",
   "execution_count": 5,
   "metadata": {},
   "outputs": [
    {
     "name": "stdout",
     "output_type": "stream",
     "text": [
      "Merged dataset saved to ../data/merged_data.csv\n"
     ]
    }
   ],
   "source": [
    "output_path = \"../data/merged_data.csv\"\n",
    "merged_df.to_csv(output_path, index=False)\n",
    "\n",
    "print(f\"Merged dataset saved to {output_path}\")\n"
   ]
  }
 ],
 "metadata": {
  "kernelspec": {
   "display_name": "Python 3",
   "language": "python",
   "name": "python3"
  },
  "language_info": {
   "codemirror_mode": {
    "name": "ipython",
    "version": 3
   },
   "file_extension": ".py",
   "mimetype": "text/x-python",
   "name": "python",
   "nbconvert_exporter": "python",
   "pygments_lexer": "ipython3",
   "version": "3.12.7"
  }
 },
 "nbformat": 4,
 "nbformat_minor": 2
}
